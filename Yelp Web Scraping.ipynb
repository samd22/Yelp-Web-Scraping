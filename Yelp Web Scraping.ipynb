{
 "cells": [
  {
   "cell_type": "code",
   "execution_count": 1,
   "metadata": {},
   "outputs": [],
   "source": [
    "import requests\n",
    "from bs4 import BeautifulSoup as bs\n",
    "import pandas as pd"
   ]
  },
  {
   "cell_type": "code",
   "execution_count": 2,
   "metadata": {
    "scrolled": true
   },
   "outputs": [
    {
     "name": "stdout",
     "output_type": "stream",
     "text": [
      "N/A\n",
      "N/A\n",
      "N/A\n",
      "N/A\n",
      "N/A\n",
      "N/A\n",
      "N/A\n",
      "N/A\n",
      "N/A\n"
     ]
    }
   ],
   "source": [
    "import bs4 as bs\n",
    "import urllib.request as url\n",
    "\n",
    "\n",
    "\n",
    "page = 1\n",
    "\n",
    "\n",
    "#Define the file in which the data will be scraped to.\n",
    "\n",
    "file = \"yelp_scrape.csv\"\n",
    "\n",
    "y = open(file, \"w\")\n",
    "\n",
    "header = \"Restaurant, Ratings, Price\"\n",
    "\n",
    "y.write(header)\n",
    "\n",
    "#This while loop allows the program to scrape all web pages of my Yelp Search automatically. \n",
    "\n",
    "while page != 10:\n",
    "    source = url.urlopen('https://www.yelp.com/search?find_desc=pizza&find_loc=Boston%2C+MA+02108&ns={page}')\n",
    "    page_soup = bs.BeautifulSoup(source, 'html.parser')\n",
    "\n",
    "    containers = page_soup.find_all(\"div\", {\"class\": \"container__09f24__mpR8_ hoverable__09f24__wQ_on margin-t3__09f24__riq4X margin-b3__09f24__l9v5d padding-t3__09f24__TMrIW padding-r3__09f24__eaF7p padding-b3__09f24__S8R2d padding-l3__09f24__IOjKY border--top__09f24__exYYb border--right__09f24__X7Tln border--bottom__09f24___mg5X border--left__09f24__DMOkM border-color--default__09f24__NPAKY\"})\n",
    "\n",
    "\n",
    "# This For loop goes through each restaurant's attribute container and scrapes the name, rating and price.\n",
    "\n",
    "    for container in containers:\n",
    "        \n",
    "        try:\n",
    "            Restaurant = container.find(\"div\", {\"class\": \"businessName__09f24__EYSZE display--inline-block__09f24__fEDiJ border-color--default__09f24__NPAKY\"}).find(\"a\").text\n",
    "            \n",
    "        except:\n",
    "            print(\"N/A\")\n",
    "        \n",
    "        try:\n",
    "            Rating = container.find(\"span\",{\"class\": \"display--inline__09f24__c6N_k border-color--default__09f24__NPAKY\"}).div.get('aria-label')\n",
    "             \n",
    "        except:\n",
    "            print(\"N/A\")\n",
    "        \n",
    "        try:\n",
    "            Price= container.find(\"span\",{\"class\": \"priceRange__09f24__mmOuH css-18qxe2r\"}).text\n",
    "           \n",
    "        except:\n",
    "            print(\"N/A\")\n",
    "        \n",
    "   \n",
    "        \n",
    "      \n",
    "        y.write(\"\\n\" + Restaurant + \",\" + Rating + \",\" + Price)\n",
    "      \n",
    "    \n",
    "    \n",
    "   \n",
    "    page = page + 1\n",
    " \n",
    "\n",
    "\n",
    "\n",
    "\n",
    "\n",
    "y.close() \n",
    " "
   ]
  },
  {
   "cell_type": "code",
   "execution_count": null,
   "metadata": {},
   "outputs": [],
   "source": []
  },
  {
   "cell_type": "code",
   "execution_count": null,
   "metadata": {},
   "outputs": [],
   "source": []
  }
 ],
 "metadata": {
  "kernelspec": {
   "display_name": "Python 3",
   "language": "python",
   "name": "python3"
  },
  "language_info": {
   "codemirror_mode": {
    "name": "ipython",
    "version": 3
   },
   "file_extension": ".py",
   "mimetype": "text/x-python",
   "name": "python",
   "nbconvert_exporter": "python",
   "pygments_lexer": "ipython3",
   "version": "3.8.5"
  }
 },
 "nbformat": 4,
 "nbformat_minor": 4
}
